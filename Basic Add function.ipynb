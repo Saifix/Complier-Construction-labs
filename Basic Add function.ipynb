def custom_sum(numbers):
    total = 0
    for num in numbers:
        total += num
    return total

# Example usage:
numbers = [1, 2, 3, 4, 5]
print(custom_sum(numbers))  # Output will be 15
